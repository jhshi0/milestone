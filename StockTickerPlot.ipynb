{
 "cells": [
  {
   "cell_type": "code",
   "execution_count": 1,
   "id": "presidential-provision",
   "metadata": {},
   "outputs": [],
   "source": [
    "import pandas, requests, json, datetime, random, shutil\n",
    "from bokeh.plotting import show, figure, save\n",
    "from bokeh.embed import file_html, components\n",
    "from bokeh.resources import CDN\n",
    "from bokeh.io import output_file\n",
    "from alpha_vantage.timeseries import TimeSeries\n",
    "with open(\"user_input.txt\", 'r') as doc: \n",
    "    if doc==None: print(\"empty\")"
   ]
  },
  {
   "cell_type": "code",
   "execution_count": 25,
   "id": "laden-thought",
   "metadata": {},
   "outputs": [],
   "source": [
    "key, ticker='8QOEOQLE6IQBJTQG', random.choice(['FB','GOOG'])\n",
    "# key, ticker='V1NDOYH4WUIEI49L', random.choice(['FB','GOOG'])\n",
    "url=\"https://www.alphavantage.co/query?function=TIME_SERIES_DAILY_ADJUSTED&symbol={}&apikey={}\" \n",
    "index_html, trial_html=\"templates/index.html\", \"templates/trial.html\" \n",
    "shutil.copyfile(index_html, trial_html)\n",
    "all_lines=[]\n",
    "with open(trial_html, 'r+') as doc: \n",
    "    for i, x in enumerate(doc):\n",
    "        all_lines.append(x)\n",
    "        if \"<!--INSERT-->\" in x: \n",
    "            all_lines.extend((\"hello\\n\", \"hallo\\n\"))\n",
    "(r:=open('postrial.html', 'r+')).writelines(all_lines)"
   ]
  },
  {
   "cell_type": "code",
   "execution_count": null,
   "id": "extreme-kazakhstan",
   "metadata": {},
   "outputs": [],
   "source": [
    "def plot(key, ticker, template_in):\n",
    "    feature_select=''\n",
    "    def process_plots_to_html(x_axs, y_axs):\n",
    "        nonlocal feature_select\n",
    "        x_title,y_title='date',feature_select\n",
    "        p=figure()\n",
    "        p.line(x_axs, y_axs, color='black')\n",
    "        show(p)\n",
    "        script, div=components(p) \n",
    "        return script, div\n",
    "    def alphav_to_dataframe(key):\n",
    "        nonlocal feature_select\n",
    "        timeseries=TimeSeries(key=key, output_format='pandas')\n",
    "        data, meta=timeseries.get_monthly_adjusted(ticker)\n",
    "        col_names=data.columns\n",
    "        mask=(data.index.year<2021)&(data.index.year>=2020)\n",
    "        truncated=data.loc[mask]\n",
    "        feature_select=col_names[0]\n",
    "        output=truncated[feature_select]\n",
    "        return list((output.index.year-2000)+0.01*output.index.month), output.values\n",
    "    def embed_plot(cmd_to_embed): \n",
    "        nonlocal template_in\n",
    "        with open(template_in, \"r+\") as doc: \n",
    "            doc.readlines()\n",
    "        return\n",
    "    x_axs, y_axs=alphav_to_dataframe(key)\n",
    "    script, div=process_plots_to_html(x_axs, y_axs) \n",
    "    embed_plot(script)\n",
    "    return \n",
    "# plot(key, ticker, index_template)"
   ]
  },
  {
   "cell_type": "code",
   "execution_count": null,
   "id": "handled-administration",
   "metadata": {
    "scrolled": true
   },
   "outputs": [],
   "source": [
    "# def html_layout(p):\n",
    "#     return file_html(p, CDN)\n",
    "# print(html_layout(plot(key)))"
   ]
  }
 ],
 "metadata": {
  "kernelspec": {
   "display_name": "Python 3",
   "language": "python",
   "name": "python3"
  },
  "language_info": {
   "codemirror_mode": {
    "name": "ipython",
    "version": 3
   },
   "file_extension": ".py",
   "mimetype": "text/x-python",
   "name": "python",
   "nbconvert_exporter": "python",
   "pygments_lexer": "ipython3",
   "version": "3.8.5"
  }
 },
 "nbformat": 4,
 "nbformat_minor": 5
}
